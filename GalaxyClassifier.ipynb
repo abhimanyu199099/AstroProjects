{
 "cells": [
  {
   "cell_type": "code",
   "execution_count": 28,
   "metadata": {},
   "outputs": [],
   "source": [
    "import torch\n",
    "import torch.nn as nn\n",
    "from torch.utils.data import Dataset, DataLoader\n",
    "import os\n",
    "import cv2\n",
    "import pandas as pd\n",
    "import albumentations as A\n",
    "from albumentations.pytorch import ToTensorV2\n",
    "import sklearn\n",
    "\n",
    "import numpy as np # data processing\n",
    "import matplotlib.pyplot as plt # Data visualization\n",
    "from tqdm import tqdm # Progress bar\n",
    "import seaborn as sns\n",
    "\n",
    "from torch import nn\n",
    "from torch.utils.data import DataLoader\n",
    "from torchvision import datasets\n",
    "from torchvision.transforms import ToTensor\n",
    "import torchvision.transforms as transforms"
   ]
  },
  {
   "cell_type": "code",
   "execution_count": 35,
   "metadata": {},
   "outputs": [
    {
     "name": "stdout",
     "output_type": "stream",
     "text": [
      "['E:\\\\GalaxyZoo\\\\galaxy-zoo-the-galaxy-challenge\\\\galaxy-zoo-the-galaxy-challenge\\\\images_training_rev1\\\\100008.jpg', 'E:\\\\GalaxyZoo\\\\galaxy-zoo-the-galaxy-challenge\\\\galaxy-zoo-the-galaxy-challenge\\\\images_training_rev1\\\\100023.jpg', 'E:\\\\GalaxyZoo\\\\galaxy-zoo-the-galaxy-challenge\\\\galaxy-zoo-the-galaxy-challenge\\\\images_training_rev1\\\\100053.jpg', 'E:\\\\GalaxyZoo\\\\galaxy-zoo-the-galaxy-challenge\\\\galaxy-zoo-the-galaxy-challenge\\\\images_training_rev1\\\\100078.jpg', 'E:\\\\GalaxyZoo\\\\galaxy-zoo-the-galaxy-challenge\\\\galaxy-zoo-the-galaxy-challenge\\\\images_training_rev1\\\\100090.jpg']\n"
     ]
    }
   ],
   "source": [
    "train_path = r\"E:\\GalaxyZoo\\galaxy-zoo-the-galaxy-challenge\\galaxy-zoo-the-galaxy-challenge\\images_training_rev1\"\n",
    "\n",
    "class CustomImageDataset(Dataset):\n",
    "    def __init__(self, file_paths, transform=None):\n",
    "        self.file_paths = file_paths\n",
    "        self.transform = transform\n",
    "\n",
    "    def __len__(self):\n",
    "        return len(self.file_paths)\n",
    "\n",
    "    def __getitem__(self, index):\n",
    "        image_path = self.file_paths[index]\n",
    "        image = Image.open(image_path)\n",
    "        \n",
    "        if self.transform:\n",
    "            image = self.transform(image)\n",
    "        \n",
    "        return image\n",
    "\n",
    "file_paths = []\n",
    "\n",
    "textfile = 'file_paths.txt'\n",
    "\n",
    "with open(textfile, 'r') as file:\n",
    "\n",
    "    for line in file:\n",
    "        file_paths.append(line.strip())  \n",
    "\n",
    "print (file_paths[0:5:])\n",
    "\n",
    "\n",
    "# Define a data transformation (optional)\n",
    "transform = transforms.Compose([transforms.PILToTensor()])\n",
    "\n",
    "# Create an instance of your custom dataset\n",
    "dataset = CustomImageDataset(file_paths, transform=transform)\n",
    "\n",
    "# Create a DataLoader to iterate over the custom dataset\n",
    "train_loader = torch.utils.data.DataLoader(dataset, batch_size=32, shuffle=True)"
   ]
  },
  {
   "cell_type": "code",
   "execution_count": null,
   "metadata": {},
   "outputs": [],
   "source": [
    "test_path =  r\"E:\\GalaxyZoo\\galaxy-zoo-the-galaxy-challenge\\galaxy-zoo-the-galaxy-challenge\\images_test_rev1\"\n",
    "\n",
    "\n",
    "\n",
    "\n"
   ]
  }
 ],
 "metadata": {
  "kernelspec": {
   "display_name": "Python 3",
   "language": "python",
   "name": "python3"
  },
  "language_info": {
   "codemirror_mode": {
    "name": "ipython",
    "version": 3
   },
   "file_extension": ".py",
   "mimetype": "text/x-python",
   "name": "python",
   "nbconvert_exporter": "python",
   "pygments_lexer": "ipython3",
   "version": "3.10.10"
  },
  "orig_nbformat": 4
 },
 "nbformat": 4,
 "nbformat_minor": 2
}
