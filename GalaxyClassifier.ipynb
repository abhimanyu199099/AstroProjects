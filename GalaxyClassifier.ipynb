{
 "cells": [
  {
   "cell_type": "code",
   "execution_count": 39,
   "metadata": {},
   "outputs": [],
   "source": [
    "import torch\n",
    "import torch.nn as nn\n",
    "from torch.utils.data import Dataset, DataLoader\n",
    "import os\n",
    "import cv2\n",
    "import pandas as pd\n",
    "import albumentations as A\n",
    "from albumentations.pytorch import ToTensorV2\n",
    "import sklearn\n",
    "\n",
    "import numpy as np # data processing\n",
    "import matplotlib.pyplot as plt # Data visualization\n",
    "from tqdm import tqdm # Progress bar\n",
    "import seaborn as sns\n",
    "\n",
    "from torch import nn\n",
    "from torch.utils.data import DataLoader\n",
    "from torchvision import datasets\n",
    "from torchvision.transforms import ToTensor\n",
    "import torchvision.transforms as transforms\n",
    "from torchvision.io import read_image\n"
   ]
  },
  {
   "cell_type": "code",
   "execution_count": 35,
   "metadata": {},
   "outputs": [
    {
     "name": "stdout",
     "output_type": "stream",
     "text": [
      "['E:\\\\GalaxyZoo\\\\galaxy-zoo-the-galaxy-challenge\\\\galaxy-zoo-the-galaxy-challenge\\\\images_training_rev1\\\\100008.jpg', 'E:\\\\GalaxyZoo\\\\galaxy-zoo-the-galaxy-challenge\\\\galaxy-zoo-the-galaxy-challenge\\\\images_training_rev1\\\\100023.jpg', 'E:\\\\GalaxyZoo\\\\galaxy-zoo-the-galaxy-challenge\\\\galaxy-zoo-the-galaxy-challenge\\\\images_training_rev1\\\\100053.jpg', 'E:\\\\GalaxyZoo\\\\galaxy-zoo-the-galaxy-challenge\\\\galaxy-zoo-the-galaxy-challenge\\\\images_training_rev1\\\\100078.jpg', 'E:\\\\GalaxyZoo\\\\galaxy-zoo-the-galaxy-challenge\\\\galaxy-zoo-the-galaxy-challenge\\\\images_training_rev1\\\\100090.jpg']\n"
     ]
    }
   ],
   "source": [
    "train_path = r\"E:\\GalaxyZoo\\galaxy-zoo-the-galaxy-challenge\\galaxy-zoo-the-galaxy-challenge\\images_training_rev1\"\n",
    "test_path = r\"E:\\GalaxyZoo\\galaxy-zoo-the-galaxy-challenge\\galaxy-zoo-the-galaxy-challenge\\images_test_rev1\"\n",
    "\n",
    "all_zeros_benchmark = r\"E:\\GalaxyZoo\\galaxy-zoo-the-galaxy-challenge\\galaxy-zoo-the-galaxy-challenge\\all_zeros_benchmark.csv\"\n",
    "\n",
    "transform = datasets.transforms.Compose([datasets.transforms.Resize((256, 256)),\n",
    "                                datasets.transforms.ToTensor()])\n",
    "\n",
    "class CustomImageDataset:\n",
    "    def __init__(self, annotations_file, img_dir, transform=None, target_transform=None):\n",
    "        self.img_labels = pd.read_csv(annotations_file)\n",
    "        self.img_dir = img_dir\n",
    "        self.transform = transform\n",
    "        self.target_transform = target_transform\n",
    "\n",
    "    def __len__(self):\n",
    "        return len(self.img_labels)\n",
    "\n",
    "    def __getitem__(self, idx):\n",
    "        img_path = os.path.join(self.img_dir, self.img_labels.iloc[idx, 0])\n",
    "        image = read_image(img_path)\n",
    "        label = self.img_labels.iloc[idx, 1]\n",
    "        if self.transform:\n",
    "            image = self.transform(image)\n",
    "        if self.target_transform:\n",
    "            label = self.target_transform(label)\n",
    "        return image, label\n",
    "\n",
    "train_set = CustomImageDataset (all_zeros_benchmark, train_path, transform, None)\n",
    "test_set = CustomImageDataset ((all_zeros_benchmark, test_path, transform, None))\n",
    "\n",
    "\n",
    "from torch.utils.data import DataLoader\n",
    "\n",
    "train_loader = DataLoader(train_set, batch_size=64, shuffle=True)\n",
    "test_loader = DataLoader(test_set, batch_size=64, shuffle=True)"
   ]
  }
 ],
 "metadata": {
  "kernelspec": {
   "display_name": "Python 3",
   "language": "python",
   "name": "python3"
  },
  "language_info": {
   "codemirror_mode": {
    "name": "ipython",
    "version": 3
   },
   "file_extension": ".py",
   "mimetype": "text/x-python",
   "name": "python",
   "nbconvert_exporter": "python",
   "pygments_lexer": "ipython3",
   "version": "3.10.10"
  },
  "orig_nbformat": 4
 },
 "nbformat": 4,
 "nbformat_minor": 2
}
